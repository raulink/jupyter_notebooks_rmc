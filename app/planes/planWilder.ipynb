{
 "cells": [
  {
   "cell_type": "code",
   "execution_count": 68,
   "metadata": {},
   "outputs": [],
   "source": [
    "import pandas as pd\n",
    "import requests\n",
    "from IPython.display import FileLink\n",
    "import os\n",
    "\n",
    "\n",
    "class GoogleSheetToCSV:\n",
    "    def __init__(self, sheet_url):\n",
    "        self.sheet_url = sheet_url\n",
    "        self.spreadsheet_id = self.extract_spreadsheet_id(sheet_url)\n",
    "        self.sheet_id = self.extract_sheet_id(sheet_url)\n",
    "        self.csv_export_url = self.construct_csv_export_url()\n",
    "\n",
    "        # Diccionarios originales\n",
    "        self.valores = {\n",
    "            \"D\": 1,\n",
    "            \"S\": 1,\n",
    "            \"M\": 5,\n",
    "            \"MC\": 1,\n",
    "            \"2M\": 2,\n",
    "            \"T\": 3,\n",
    "            \"4M\": 4,\n",
    "            \"SE\": 6,\n",
    "            \"8M\": 8,\n",
    "            \"A\": 1,\n",
    "            \"1.5A\": 18,\n",
    "            \"2A\": 2,\n",
    "            \"3A\": 3,\n",
    "            \"4A\": 4,\n",
    "            \"5A\": 5,\n",
    "            \"6A\": 6,\n",
    "            \"8A\": 8,\n",
    "            \"10A\": 10,\n",
    "            \"1000\": 1000,\n",
    "            \"6000\": 6000,\n",
    "            \"22500\": 22500,\n",
    "            \"40000\": 40000,\n",
    "            \"55000\": 55000\n",
    "        }\n",
    "\n",
    "        self.regimen = {\n",
    "            \"D\": 'dia',\n",
    "            \"S\": 'semana',\n",
    "            \"M\": 'semana',\n",
    "            \"MC\": 'mes',\n",
    "            \"2M\": 'mes',\n",
    "            \"T\":  'mes',\n",
    "            \"4M\": 'mes',\n",
    "            \"SE\": 'mes',\n",
    "            \"8M\": 'mes',\n",
    "            \"A\": 'Año',\n",
    "            \"1.5A\": 'mes',\n",
    "            \"2A\": 'Año',\n",
    "            \"3A\": 'Año',\n",
    "            \"4A\": 'Año',\n",
    "            \"5A\": 'Año',\n",
    "            \"6A\": 'Año',\n",
    "            \"8A\": 'Año',\n",
    "            \"10A\": 'Año',\n",
    "            \"1000\": 'horas',\n",
    "            \"6000\": 'horas',\n",
    "            \"22500\": 'horas',\n",
    "            \"40000\": 'horas',\n",
    "            \"55000\": 'horas'\n",
    "        }\n",
    "\n",
    "    def extract_spreadsheet_id(self, url):\n",
    "        # Extrae el ID de la hoja de cálculo de la URL\n",
    "        return url.split('/d/')[1].split('/')[0]\n",
    "\n",
    "    def extract_sheet_id(self, url):\n",
    "        # Extrae el ID de la hoja específica de la URL\n",
    "        return url.split('gid=')[1]\n",
    "\n",
    "    def construct_csv_export_url(self):\n",
    "        # Construye la URL de exportación a CSV\n",
    "        return f\"https://docs.google.com/spreadsheets/d/{self.spreadsheet_id}/export?format=csv&id={self.spreadsheet_id}&gid={self.sheet_id}\"\n",
    "\n",
    "    def download_csv(self, output_filename='temp_sheet.csv'):\n",
    "        # Descarga el archivo CSV y lo guarda temporalmente\n",
    "        response = requests.get(self.csv_export_url)\n",
    "        response.raise_for_status()  # Asegurarse de que la solicitud fue exitosa\n",
    "        with open(output_filename, 'wb') as f:\n",
    "            f.write(response.content)\n",
    "        return output_filename\n",
    "\n",
    "    def set_dataframes(self, df1, df2):\n",
    "        \"\"\"\n",
    "        Inicializa la clase con dos dataframes.\n",
    "\n",
    "        Args:\n",
    "            df1 (pd.DataFrame): El primer dataframe.\n",
    "            df2 (pd.DataFrame): El segundo dataframe.\n",
    "        \"\"\"\n",
    "        self.df1 = df1\n",
    "        self.df2 = df2\n",
    "\n",
    "    def buscarv(self, col_a='A', col_b='C', col_res=None):\n",
    "        \"\"\"\n",
    "        Realiza una combinación de los dataframes basándose en las columnas especificadas.\n",
    "\n",
    "        Args:\n",
    "            col_a (str): Nombre de la columna en df1 para la combinación.\n",
    "            col_b (str): Nombre de la columna en df2 para la combinación.\n",
    "            col_res (str): Nombre de la columna de resultados a retornar. Si es None, retorna todas las columnas combinadas.\n",
    "\n",
    "        Returns:\n",
    "            pd.DataFrame: Dataframe con las filas combinadas y las columnas especificadas.\n",
    "        \"\"\"\n",
    "        # Asegurar que las columnas para combinar sean del mismo tipo\n",
    "        self.df1[col_a] = self.df1[col_a].astype(str)\n",
    "        self.df2[col_b] = self.df2[col_b].astype(str)\n",
    "\n",
    "        result = pd.merge(self.df1, self.df2, how='inner',\n",
    "                          left_on=col_a, right_on=col_b)\n",
    "        if col_res is None:\n",
    "            return result\n",
    "        else:\n",
    "            return result[[col_a, col_res]]\n",
    "\n",
    "    def get_unique(self, df: pd.DataFrame, column: str):\n",
    "        \"\"\"\n",
    "        Obtiene un DataFrame con valores únicos de la columna 'Column', con índices ajustados.\n",
    "\n",
    "        Returns:\n",
    "        pd.DataFrame: Un DataFrame con valores únicos de la columna 'Column' y un índice ajustado.\n",
    "        \"\"\"\n",
    "        df[column] = df[column].str.strip()\n",
    "        df = df[df[column].notnull()]\n",
    "        df_unique = pd.DataFrame(df[column].unique(), columns=['value'])\n",
    "        df_unique.index = df_unique.index + 1\n",
    "        return df_unique\n",
    "\n",
    "    def asignar_frecuencias(self, row, parametros):\n",
    "        # Verificar que los diccionarios tengan el mismo tamaño\n",
    "        if len(parametros['valores']) != len(parametros['regimen']):\n",
    "            raise ValueError(f\"Los diccionarios no tienen el mismo tamaño. {len(parametros['cabecera'])} != {len(parametros['regimen'])}\")\n",
    "\n",
    "        # Asignar valores a la columna \"regimen frecuencia\"\n",
    "        for key in parametros['cabecera']:\n",
    "            if row[key] == True:\n",
    "                return parametros['regimen']\n",
    "\n",
    "        return None\n",
    "\n",
    "    def get_regime(\n",
    "        self,\n",
    "        df: pd.DataFrame,\n",
    "        parametros: dict        \n",
    "    ):\n",
    "        \"\"\"\n",
    "        Obtiene un DataFrame, realiza la clasificación por frecuencias y por unidades.\n",
    "\n",
    "        Returns:\n",
    "        pd.DataFrame: Un DataFrame con 2 Columnas value y unidad de acuerdo a las frecuencias de sus mantenimientos.\n",
    "        \"\"\"\n",
    "        # Aplicar la función a cada columna en la lista\n",
    "        # columnas = ['D', 'S', 'M', 'MC', '2M', 'T', '4M','SE', '8M', 'A', '1.5A', '2A', '3A', '4A', '5A', '6A', '8A', '10A','1000', '6000', '22500', '40000', '55000']\n",
    "        # Conversion en valores booleanos\n",
    "        df[list(self.valores.keys())] = df[self.valores.keys()].applymap(lambda x: True if x == 'TRUE' else False)\n",
    "\n",
    "        df['unidad'] = df.apply(lambda x: self.asignar_frecuencias(x, parametros), axis=1)\n",
    "        df['valor'] = df.apply(\n",
    "            lambda x: self.asignar_frecuencias(x, parametros), axis=1)\n",
    "        df1 = df[['id', 'Cod', 'Plan', 'Accion', 'Actividad', 'Tipo',\n",
    "                  'Parada', 'Relevancia', 'Especialidad', 'D', 'valor', 'unidad']]\n",
    "        return df1\n",
    "\n",
    "    def get_dataframes(self):\n",
    "        # obtener dataframes de archivo csv\n",
    "        df = pd.DataFrame(self.read_csv())\n",
    "        self.df_plans = self.get_unique(df, 'Plan')\n",
    "        self.df_actions = self.get_unique(df, 'Accion')\n",
    "        self.df_specialities = self.get_unique(df, 'Especialidad')\n",
    "\n",
    "        # df_regime = self.get_regime(df,\"\",calendar=\"FECHAS\",)\n",
    "\n",
    "    def print_datafarame(self):\n",
    "        return self.df_plans\n",
    "\n",
    "    def read_csv(self, filename=\"temp_sheet.csv\"):\n",
    "        # Lee el archivo CSV usando pandas\n",
    "        self.df = pd.read_csv(filename)\n",
    "        self.df.columns = self.df.loc[2, :].to_list()  # la fila 2 como fila\n",
    "        self.df = self.df.loc[4:, :]   # Obtener desde la fila 4 en adelante\n",
    "        return self.df\n",
    "\n",
    "    def get_data_frame(self):\n",
    "        # Descargar y leer el archivo CSV en un DataFrame\n",
    "        csv_filename = self.download_csv()\n",
    "        return self.read_csv(csv_filename)"
   ]
  },
  {
   "cell_type": "code",
   "execution_count": 69,
   "metadata": {},
   "outputs": [],
   "source": [
    "\n",
    "archivo = \"temp_sheet.csv\"\n",
    "\n",
    "# Cargado de plan de actividades\n",
    "sheet_url = \"https://docs.google.com/spreadsheets/d/1OkECu7qNfGZxX_rc2RDbaz0A-oE_gUwJ0P2tjU_x-q0/edit?gid=1199302294#gid=1199302294\"\n",
    "gs = GoogleSheetToCSV(sheet_url)\n",
    "# Descargar el archivo csv\n",
    "gs.download_csv()       # Descarga del csv en el disco\n",
    "df_raw = gs.read_csv()   # Carga del csv descargado en un dataframe"
   ]
  },
  {
   "cell_type": "code",
   "execution_count": 70,
   "metadata": {},
   "outputs": [],
   "source": [
    "# Copiar dataframe\n",
    "df = df_raw.copy(deep=True)"
   ]
  },
  {
   "cell_type": "code",
   "execution_count": 71,
   "metadata": {},
   "outputs": [
    {
     "name": "stderr",
     "output_type": "stream",
     "text": [
      "/tmp/ipykernel_73221/723538145.py:2: FutureWarning: DataFrame.applymap has been deprecated. Use DataFrame.map instead.\n",
      "  df[list(gs.valores.keys())] = df[gs.valores.keys()].applymap(lambda x: True if x == 'TRUE' else False)\n"
     ]
    }
   ],
   "source": [
    "## convertir a booleano\n",
    "df[list(gs.valores.keys())] = df[gs.valores.keys()].applymap(lambda x: True if x == 'TRUE' else False)\n",
    "# Obtener la unidades\n",
    "parametros = gs.regimen\n",
    "df['unidad'] = df.apply(lambda row: next((parametros[key] for key in parametros.keys() if key in row and row[key] == True), None), axis=1)\n",
    "# Obtener los valores\n",
    "parametros = gs.valores\n",
    "df['valor'] = df.apply(lambda row: next((parametros[key] for key in parametros.keys() if key in row and row[key] == True), None), axis=1)\n",
    "# Filtrar las columnas necesarias solamente\n",
    "\n",
    "# Quitar planes\n",
    "df = df[df['Tipo']!= 'Plan']\n",
    "\n",
    "# Mantener solo las columnas necesarias\n",
    "columns = ['Plan','Accion','Trabajo','Actividad','Tipo','Parada','Relevancia','Especialidad','valor','unidad']\n",
    "df = df[columns]"
   ]
  },
  {
   "cell_type": "code",
   "execution_count": 72,
   "metadata": {},
   "outputs": [],
   "source": [
    "# Crear la nueva columna fk_activity que tendra relaciones con las actividades padre\n",
    "df['fk_activity']= None\n",
    "df['fkc_regime']= None\n",
    "\n",
    "# renombrar los nombres de las columnas\n",
    "nuevos_nombres = {\n",
    "    'Plan': 'fk_plan',\n",
    "    'Accion': 'fk_action',\n",
    "    'Actividad': 'name',\n",
    "    'Tipo': 'fkc_activity_type',\n",
    "    'Relevancia': 'fkc_priority',\n",
    "    'Especialidad': 'fk_specialty',\n",
    "    'valor': 'time_interval_value',\n",
    "    'unidad': 'fk_periodicity_unit',\n",
    "    'Parada': 'stoppage',\n",
    "}\n",
    "df.rename(columns=nuevos_nombres, inplace=True)\n"
   ]
  },
  {
   "cell_type": "code",
   "execution_count": 73,
   "metadata": {},
   "outputs": [],
   "source": [
    "# Mantener las columnas del excel en el orden indicado\n",
    "columnas_excel = ['fk_activity','fk_plan','fk_action','name','fkc_activity_type','fkc_priority','fk_specialty','fkc_regime','stoppage','time_interval_value','fk_periodicity_unit'] \n",
    "\n",
    "df = df[columnas_excel]\n",
    "\n"
   ]
  },
  {
   "cell_type": "code",
   "execution_count": 74,
   "metadata": {},
   "outputs": [],
   "source": [
    "df_plan = gs.get_unique(df,\"fk_plan\")\n",
    "df_action = gs.get_unique(df,\"fk_action\")\n",
    "df_speciality = gs.get_unique(df,\"fk_specialty\")\n",
    "df_activity_type = gs.get_unique(df,\"fkc_activity_type\")\n",
    "#f_regime = gs.get_unique(df,\"fkc_regimee\")\n"
   ]
  },
  {
   "cell_type": "code",
   "execution_count": 75,
   "metadata": {},
   "outputs": [],
   "source": [
    "# Filter the data\n",
    "#df = df_raw.copy(deep=True)\n",
    "filtered_data = df[(df['fkc_activity_type'] == 'Actividad') | (df['fkc_activity_type'] == 'Tarea')]\n",
    "\n",
    "# Add fk_activity column\n",
    "filtered_data['fk_activity'] = None\n",
    "\n",
    "# Set fk_activity for Tareas based on their parent Actividad\n",
    "parent_index = None\n",
    "for i, row in filtered_data.iterrows():\n",
    "    if row['fkc_activity_type'] == 'Actividad':\n",
    "        parent_index = i\n",
    "    elif row['fkc_activity_type'] == 'Tarea':\n",
    "        filtered_data.at[i, 'fk_activity'] = parent_index\n",
    "#filtered_data\n"
   ]
  },
  {
   "cell_type": "code",
   "execution_count": 76,
   "metadata": {},
   "outputs": [
    {
     "data": {
      "text/plain": [
       "1"
      ]
     },
     "execution_count": 76,
     "metadata": {},
     "output_type": "execute_result"
    }
   ],
   "source": [
    "def buscarIndice(df:pd.DataFrame, valor,columna='value'):\n",
    "    return int (df[df[columna]==valor].index[0])\n",
    "\n",
    "buscarIndice(df_plan,\"MOTOR ELECTRICO PRINCIPAL\",\"value\")\n"
   ]
  },
  {
   "cell_type": "code",
   "execution_count": 77,
   "metadata": {},
   "outputs": [],
   "source": [
    "filtered_data['fk_plan']= filtered_data['fk_plan'].apply(lambda x: buscarIndice(df_plan,x)) \n"
   ]
  },
  {
   "cell_type": "code",
   "execution_count": 78,
   "metadata": {},
   "outputs": [
    {
     "data": {
      "text/plain": [
       "1"
      ]
     },
     "execution_count": 78,
     "metadata": {},
     "output_type": "execute_result"
    }
   ],
   "source": [
    "def buscarIndice(df:pd.DataFrame, valor,columna='value'):\n",
    "    return int (df[df[columna]==valor].index[0])\n",
    "\n",
    "buscarIndice(df_action,\"VERIFICAR\",\"value\")\n"
   ]
  },
  {
   "cell_type": "code",
   "execution_count": 79,
   "metadata": {},
   "outputs": [],
   "source": [
    "filtered_data['fk_action']= filtered_data['fk_action'].apply(lambda x: buscarIndice(df_action,x)) \n"
   ]
  },
  {
   "cell_type": "code",
   "execution_count": 80,
   "metadata": {},
   "outputs": [
    {
     "name": "stdout",
     "output_type": "stream",
     "text": [
      "Value 'OPERATIVA' not found in 'value' column\n"
     ]
    }
   ],
   "source": [
    "def buscarIndice(df: pd.DataFrame, valor, columna='value'):\n",
    "  if df.empty:\n",
    "    return -1  # Or any other value to indicate not found\n",
    "  return int(df[df[columna] == valor].index[0])\n",
    "if \"OPERATIVA\" in df_action[\"value\"].values:\n",
    "  indice = buscarIndice(df_action, \"OPERATIVA\", \"value\")\n",
    "else:\n",
    "  print(\"Value 'OPERATIVA' not found in 'value' column\")\n"
   ]
  },
  {
   "cell_type": "code",
   "execution_count": 81,
   "metadata": {},
   "outputs": [
    {
     "data": {
      "text/plain": [
       "1"
      ]
     },
     "execution_count": 81,
     "metadata": {},
     "output_type": "execute_result"
    }
   ],
   "source": [
    "def buscarIndice(df:pd.DataFrame, valor,columna='value'):\n",
    "    return int (df[df[columna]==valor].index[0])\n",
    "\n",
    "buscarIndice(df_speciality,\"OPERATIVA\",\"value\")"
   ]
  },
  {
   "cell_type": "code",
   "execution_count": 82,
   "metadata": {},
   "outputs": [],
   "source": [
    "filtered_data['fk_specialty']= filtered_data['fk_specialty'].apply(lambda x: buscarIndice(df_speciality,x))\n",
    "\n",
    "\n",
    "\n"
   ]
  },
  {
   "cell_type": "code",
   "execution_count": 84,
   "metadata": {},
   "outputs": [],
   "source": [
    "#filtered_data.to_excel(\"planes.xlsx\")\n",
    "\n",
    "# Supongamos que tienes tres DataFrames: df1, df2, df3\n",
    "# Obtener la ruta de la carpeta de descargas\n",
    "user_home = os.path.expanduser('~')\n",
    "downloads_path = os.path.join(user_home, 'Downloads')\n",
    "\n",
    "file_path = 'Teleferico3.xlsx'\n",
    "\n",
    "with pd.ExcelWriter(file_path) as writer:\n",
    "    df_action.to_excel(writer, sheet_name='Acciones')\n",
    "    df_plan.to_excel(writer, sheet_name='Plan')\n",
    "    df_speciality.to_excel(writer, sheet_name='Especialidad')\n",
    "    filtered_data.to_excel(writer, sheet_name='Actividades')\n"
   ]
  }
 ],
 "metadata": {
  "kernelspec": {
   "display_name": "base",
   "language": "python",
   "name": "python3"
  },
  "language_info": {
   "codemirror_mode": {
    "name": "ipython",
    "version": 3
   },
   "file_extension": ".py",
   "mimetype": "text/x-python",
   "name": "python",
   "nbconvert_exporter": "python",
   "pygments_lexer": "ipython3",
   "version": "3.12.4"
  }
 },
 "nbformat": 4,
 "nbformat_minor": 2
}
